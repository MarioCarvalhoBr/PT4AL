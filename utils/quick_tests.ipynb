{
 "cells": [
  {
   "cell_type": "code",
   "execution_count": 1,
   "metadata": {},
   "outputs": [
    {
     "name": "stdout",
     "output_type": "stream",
     "text": [
      "Labels:  48156\n",
      "Background:  1585588\n"
     ]
    }
   ],
   "source": [
    "import os\n",
    "\n",
    "data_dir = \"/home/juan/Documents/tcc/datasets/mamonas_32x32_0.1_to_1\"\n",
    "\n",
    "labels = os.listdir(data_dir + \"/labels\")\n",
    "background = os.listdir(data_dir + \"/background\")\n",
    "\n",
    "print(\"Labels: \", len(labels))\n",
    "print(\"Background: \", len(background))"
   ]
  },
  {
   "cell_type": "code",
   "execution_count": 2,
   "metadata": {},
   "outputs": [
    {
     "name": "stdout",
     "output_type": "stream",
     "text": [
      "Labels:  59124\n",
      "Background:  1585588\n"
     ]
    }
   ],
   "source": [
    "data_dir = \"/home/juan/Documents/tcc/datasets/mamonas_32x32_0.01_to_1\"\n",
    "\n",
    "labels = os.listdir(data_dir + \"/labels\")\n",
    "background = os.listdir(data_dir + \"/background\")\n",
    "\n",
    "print(\"Labels: \", len(labels))\n",
    "print(\"Background: \", len(background))"
   ]
  },
  {
   "cell_type": "code",
   "execution_count": 3,
   "metadata": {},
   "outputs": [
    {
     "name": "stdout",
     "output_type": "stream",
     "text": [
      "Labels:  15984\n",
      "Background:  381500\n"
     ]
    }
   ],
   "source": [
    "data_dir = \"/home/juan/Documents/tcc/datasets/mamonas_64x64_0.1_to_1\"\n",
    "\n",
    "labels = os.listdir(data_dir + \"/labels\")\n",
    "background = os.listdir(data_dir + \"/background\")\n",
    "\n",
    "print(\"Labels: \", len(labels))\n",
    "print(\"Background: \", len(background))"
   ]
  },
  {
   "cell_type": "code",
   "execution_count": 4,
   "metadata": {},
   "outputs": [
    {
     "name": "stdout",
     "output_type": "stream",
     "text": [
      "Labels:  21464\n",
      "Background:  381500\n"
     ]
    }
   ],
   "source": [
    "data_dir = \"/home/juan/Documents/tcc/datasets/mamonas_64x64_0.01_to_1\"\n",
    "\n",
    "labels = os.listdir(data_dir + \"/labels\")\n",
    "background = os.listdir(data_dir + \"/background\")\n",
    "\n",
    "print(\"Labels: \", len(labels))\n",
    "print(\"Background: \", len(background))"
   ]
  },
  {
   "cell_type": "code",
   "execution_count": 2,
   "metadata": {},
   "outputs": [],
   "source": [
    "import random\n",
    "import os\n",
    "\n",
    "dataset_dir = \"/home/juan/Documents/tcc/datasets/mamonas_32x32_0.1_to_1\"\n",
    "out_dir = \"/home/juan/Documents/tcc/code/PT4AL/DATA/\"\n",
    "\n",
    "mamonas = os.listdir(dataset_dir + \"/mamonas\")\n",
    "background = os.listdir(dataset_dir + \"/background\")\n",
    "\n",
    "mamonas_sample = random.sample(mamonas, 1000)\n",
    "background_sample = random.sample(background, 1000)\n",
    "\n",
    "mamonas_train = mamonas_sample[:800]\n",
    "mamonas_test = mamonas_sample[800:]\n",
    "\n",
    "background_train = background_sample[:800]\n",
    "background_test = background_sample[800:]\n",
    "\n",
    "# copy the files to the output directory\n",
    "for file in mamonas_train:\n",
    "    os.system(\"cp \" + dataset_dir + \"/mamonas/\" + file + \" \" + out_dir + \"/train/0\")\n",
    "\n",
    "for file in background_train:\n",
    "    os.system(\"cp \" + dataset_dir + \"/background/\" + file + \" \" + out_dir + \"/train/1\")\n",
    "\n",
    "for file in mamonas_test:\n",
    "    os.system(\"cp \" + dataset_dir + \"/mamonas/\" + file + \" \" + out_dir + \"/test/0\")\n",
    "\n",
    "for file in background_test:\n",
    "    os.system(\"cp \" + dataset_dir + \"/background/\" + file + \" \" + out_dir + \"/test/1\")\n",
    "\n"
   ]
  },
  {
   "cell_type": "markdown",
   "metadata": {},
   "source": [
    "#"
   ]
  }
 ],
 "metadata": {
  "kernelspec": {
   "display_name": "def",
   "language": "python",
   "name": "python3"
  },
  "language_info": {
   "codemirror_mode": {
    "name": "ipython",
    "version": 3
   },
   "file_extension": ".py",
   "mimetype": "text/x-python",
   "name": "python",
   "nbconvert_exporter": "python",
   "pygments_lexer": "ipython3",
   "version": "3.8.16"
  }
 },
 "nbformat": 4,
 "nbformat_minor": 2
}
